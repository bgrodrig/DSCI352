{
  "nbformat": 4,
  "nbformat_minor": 0,
  "metadata": {
    "colab": {
      "provenance": []
    },
    "kernelspec": {
      "name": "python3",
      "display_name": "Python 3"
    },
    "language_info": {
      "name": "python"
    }
  },
  "cells": [
    {
      "cell_type": "code",
      "execution_count": 1,
      "metadata": {
        "id": "IYsWGsNr6S25"
      },
      "outputs": [],
      "source": [
        "# Beatriz Rodriguez\n",
        "# DSCI 352 HW#3\n",
        "# Question 3"
      ]
    },
    {
      "cell_type": "code",
      "source": [
        "from google.colab import files\n",
        "import pandas as pd\n",
        "import io\n",
        "import numpy as np\n",
        "import matplotlib.pyplot as plt"
      ],
      "metadata": {
        "id": "ubC4For96eqC"
      },
      "execution_count": 1,
      "outputs": []
    },
    {
      "cell_type": "code",
      "source": [
        "uploaded = files.upload()"
      ],
      "metadata": {
        "colab": {
          "base_uri": "https://localhost:8080/",
          "height": 74
        },
        "id": "-mHBL4Ub6ltr",
        "outputId": "df94ca84-168d-46d1-cb7e-8916a32e3f10"
      },
      "execution_count": 2,
      "outputs": [
        {
          "output_type": "display_data",
          "data": {
            "text/plain": [
              "<IPython.core.display.HTML object>"
            ],
            "text/html": [
              "\n",
              "     <input type=\"file\" id=\"files-58245675-f1a6-4e5c-9aea-8b5bd27eb57d\" name=\"files[]\" multiple disabled\n",
              "        style=\"border:none\" />\n",
              "     <output id=\"result-58245675-f1a6-4e5c-9aea-8b5bd27eb57d\">\n",
              "      Upload widget is only available when the cell has been executed in the\n",
              "      current browser session. Please rerun this cell to enable.\n",
              "      </output>\n",
              "      <script>// Copyright 2017 Google LLC\n",
              "//\n",
              "// Licensed under the Apache License, Version 2.0 (the \"License\");\n",
              "// you may not use this file except in compliance with the License.\n",
              "// You may obtain a copy of the License at\n",
              "//\n",
              "//      http://www.apache.org/licenses/LICENSE-2.0\n",
              "//\n",
              "// Unless required by applicable law or agreed to in writing, software\n",
              "// distributed under the License is distributed on an \"AS IS\" BASIS,\n",
              "// WITHOUT WARRANTIES OR CONDITIONS OF ANY KIND, either express or implied.\n",
              "// See the License for the specific language governing permissions and\n",
              "// limitations under the License.\n",
              "\n",
              "/**\n",
              " * @fileoverview Helpers for google.colab Python module.\n",
              " */\n",
              "(function(scope) {\n",
              "function span(text, styleAttributes = {}) {\n",
              "  const element = document.createElement('span');\n",
              "  element.textContent = text;\n",
              "  for (const key of Object.keys(styleAttributes)) {\n",
              "    element.style[key] = styleAttributes[key];\n",
              "  }\n",
              "  return element;\n",
              "}\n",
              "\n",
              "// Max number of bytes which will be uploaded at a time.\n",
              "const MAX_PAYLOAD_SIZE = 100 * 1024;\n",
              "\n",
              "function _uploadFiles(inputId, outputId) {\n",
              "  const steps = uploadFilesStep(inputId, outputId);\n",
              "  const outputElement = document.getElementById(outputId);\n",
              "  // Cache steps on the outputElement to make it available for the next call\n",
              "  // to uploadFilesContinue from Python.\n",
              "  outputElement.steps = steps;\n",
              "\n",
              "  return _uploadFilesContinue(outputId);\n",
              "}\n",
              "\n",
              "// This is roughly an async generator (not supported in the browser yet),\n",
              "// where there are multiple asynchronous steps and the Python side is going\n",
              "// to poll for completion of each step.\n",
              "// This uses a Promise to block the python side on completion of each step,\n",
              "// then passes the result of the previous step as the input to the next step.\n",
              "function _uploadFilesContinue(outputId) {\n",
              "  const outputElement = document.getElementById(outputId);\n",
              "  const steps = outputElement.steps;\n",
              "\n",
              "  const next = steps.next(outputElement.lastPromiseValue);\n",
              "  return Promise.resolve(next.value.promise).then((value) => {\n",
              "    // Cache the last promise value to make it available to the next\n",
              "    // step of the generator.\n",
              "    outputElement.lastPromiseValue = value;\n",
              "    return next.value.response;\n",
              "  });\n",
              "}\n",
              "\n",
              "/**\n",
              " * Generator function which is called between each async step of the upload\n",
              " * process.\n",
              " * @param {string} inputId Element ID of the input file picker element.\n",
              " * @param {string} outputId Element ID of the output display.\n",
              " * @return {!Iterable<!Object>} Iterable of next steps.\n",
              " */\n",
              "function* uploadFilesStep(inputId, outputId) {\n",
              "  const inputElement = document.getElementById(inputId);\n",
              "  inputElement.disabled = false;\n",
              "\n",
              "  const outputElement = document.getElementById(outputId);\n",
              "  outputElement.innerHTML = '';\n",
              "\n",
              "  const pickedPromise = new Promise((resolve) => {\n",
              "    inputElement.addEventListener('change', (e) => {\n",
              "      resolve(e.target.files);\n",
              "    });\n",
              "  });\n",
              "\n",
              "  const cancel = document.createElement('button');\n",
              "  inputElement.parentElement.appendChild(cancel);\n",
              "  cancel.textContent = 'Cancel upload';\n",
              "  const cancelPromise = new Promise((resolve) => {\n",
              "    cancel.onclick = () => {\n",
              "      resolve(null);\n",
              "    };\n",
              "  });\n",
              "\n",
              "  // Wait for the user to pick the files.\n",
              "  const files = yield {\n",
              "    promise: Promise.race([pickedPromise, cancelPromise]),\n",
              "    response: {\n",
              "      action: 'starting',\n",
              "    }\n",
              "  };\n",
              "\n",
              "  cancel.remove();\n",
              "\n",
              "  // Disable the input element since further picks are not allowed.\n",
              "  inputElement.disabled = true;\n",
              "\n",
              "  if (!files) {\n",
              "    return {\n",
              "      response: {\n",
              "        action: 'complete',\n",
              "      }\n",
              "    };\n",
              "  }\n",
              "\n",
              "  for (const file of files) {\n",
              "    const li = document.createElement('li');\n",
              "    li.append(span(file.name, {fontWeight: 'bold'}));\n",
              "    li.append(span(\n",
              "        `(${file.type || 'n/a'}) - ${file.size} bytes, ` +\n",
              "        `last modified: ${\n",
              "            file.lastModifiedDate ? file.lastModifiedDate.toLocaleDateString() :\n",
              "                                    'n/a'} - `));\n",
              "    const percent = span('0% done');\n",
              "    li.appendChild(percent);\n",
              "\n",
              "    outputElement.appendChild(li);\n",
              "\n",
              "    const fileDataPromise = new Promise((resolve) => {\n",
              "      const reader = new FileReader();\n",
              "      reader.onload = (e) => {\n",
              "        resolve(e.target.result);\n",
              "      };\n",
              "      reader.readAsArrayBuffer(file);\n",
              "    });\n",
              "    // Wait for the data to be ready.\n",
              "    let fileData = yield {\n",
              "      promise: fileDataPromise,\n",
              "      response: {\n",
              "        action: 'continue',\n",
              "      }\n",
              "    };\n",
              "\n",
              "    // Use a chunked sending to avoid message size limits. See b/62115660.\n",
              "    let position = 0;\n",
              "    do {\n",
              "      const length = Math.min(fileData.byteLength - position, MAX_PAYLOAD_SIZE);\n",
              "      const chunk = new Uint8Array(fileData, position, length);\n",
              "      position += length;\n",
              "\n",
              "      const base64 = btoa(String.fromCharCode.apply(null, chunk));\n",
              "      yield {\n",
              "        response: {\n",
              "          action: 'append',\n",
              "          file: file.name,\n",
              "          data: base64,\n",
              "        },\n",
              "      };\n",
              "\n",
              "      let percentDone = fileData.byteLength === 0 ?\n",
              "          100 :\n",
              "          Math.round((position / fileData.byteLength) * 100);\n",
              "      percent.textContent = `${percentDone}% done`;\n",
              "\n",
              "    } while (position < fileData.byteLength);\n",
              "  }\n",
              "\n",
              "  // All done.\n",
              "  yield {\n",
              "    response: {\n",
              "      action: 'complete',\n",
              "    }\n",
              "  };\n",
              "}\n",
              "\n",
              "scope.google = scope.google || {};\n",
              "scope.google.colab = scope.google.colab || {};\n",
              "scope.google.colab._files = {\n",
              "  _uploadFiles,\n",
              "  _uploadFilesContinue,\n",
              "};\n",
              "})(self);\n",
              "</script> "
            ]
          },
          "metadata": {}
        },
        {
          "output_type": "stream",
          "name": "stdout",
          "text": [
            "Saving Titanic.csv to Titanic.csv\n"
          ]
        }
      ]
    },
    {
      "cell_type": "code",
      "source": [
        "import numpy as np, random\n",
        "SEED = 42\n",
        "np.random.seed(SEED)\n",
        "random.seed(SEED)"
      ],
      "metadata": {
        "id": "aouiscSSLEn7"
      },
      "execution_count": 3,
      "outputs": []
    },
    {
      "cell_type": "code",
      "source": [
        "titanic = pd.read_csv(io.BytesIO(uploaded['Titanic.csv']))"
      ],
      "metadata": {
        "id": "Ous36c5O7JuT"
      },
      "execution_count": 4,
      "outputs": []
    },
    {
      "cell_type": "code",
      "source": [
        "titanic.head()"
      ],
      "metadata": {
        "colab": {
          "base_uri": "https://localhost:8080/",
          "height": 206
        },
        "id": "WZCOHmob7RDT",
        "outputId": "58f92bfa-8223-451a-c03f-633ca6ea58e9"
      },
      "execution_count": 5,
      "outputs": [
        {
          "output_type": "execute_result",
          "data": {
            "text/plain": [
              "   Passenger Class   Sex    Age Survived\n",
              "0          1   3rd  Male  Child       No\n",
              "1          2   3rd  Male  Child       No\n",
              "2          3   3rd  Male  Child       No\n",
              "3          4   3rd  Male  Child       No\n",
              "4          5   3rd  Male  Child       No"
            ],
            "text/html": [
              "\n",
              "  <div id=\"df-234c6b2d-d994-4755-b625-32fb0a0107be\" class=\"colab-df-container\">\n",
              "    <div>\n",
              "<style scoped>\n",
              "    .dataframe tbody tr th:only-of-type {\n",
              "        vertical-align: middle;\n",
              "    }\n",
              "\n",
              "    .dataframe tbody tr th {\n",
              "        vertical-align: top;\n",
              "    }\n",
              "\n",
              "    .dataframe thead th {\n",
              "        text-align: right;\n",
              "    }\n",
              "</style>\n",
              "<table border=\"1\" class=\"dataframe\">\n",
              "  <thead>\n",
              "    <tr style=\"text-align: right;\">\n",
              "      <th></th>\n",
              "      <th>Passenger</th>\n",
              "      <th>Class</th>\n",
              "      <th>Sex</th>\n",
              "      <th>Age</th>\n",
              "      <th>Survived</th>\n",
              "    </tr>\n",
              "  </thead>\n",
              "  <tbody>\n",
              "    <tr>\n",
              "      <th>0</th>\n",
              "      <td>1</td>\n",
              "      <td>3rd</td>\n",
              "      <td>Male</td>\n",
              "      <td>Child</td>\n",
              "      <td>No</td>\n",
              "    </tr>\n",
              "    <tr>\n",
              "      <th>1</th>\n",
              "      <td>2</td>\n",
              "      <td>3rd</td>\n",
              "      <td>Male</td>\n",
              "      <td>Child</td>\n",
              "      <td>No</td>\n",
              "    </tr>\n",
              "    <tr>\n",
              "      <th>2</th>\n",
              "      <td>3</td>\n",
              "      <td>3rd</td>\n",
              "      <td>Male</td>\n",
              "      <td>Child</td>\n",
              "      <td>No</td>\n",
              "    </tr>\n",
              "    <tr>\n",
              "      <th>3</th>\n",
              "      <td>4</td>\n",
              "      <td>3rd</td>\n",
              "      <td>Male</td>\n",
              "      <td>Child</td>\n",
              "      <td>No</td>\n",
              "    </tr>\n",
              "    <tr>\n",
              "      <th>4</th>\n",
              "      <td>5</td>\n",
              "      <td>3rd</td>\n",
              "      <td>Male</td>\n",
              "      <td>Child</td>\n",
              "      <td>No</td>\n",
              "    </tr>\n",
              "  </tbody>\n",
              "</table>\n",
              "</div>\n",
              "    <div class=\"colab-df-buttons\">\n",
              "\n",
              "  <div class=\"colab-df-container\">\n",
              "    <button class=\"colab-df-convert\" onclick=\"convertToInteractive('df-234c6b2d-d994-4755-b625-32fb0a0107be')\"\n",
              "            title=\"Convert this dataframe to an interactive table.\"\n",
              "            style=\"display:none;\">\n",
              "\n",
              "  <svg xmlns=\"http://www.w3.org/2000/svg\" height=\"24px\" viewBox=\"0 -960 960 960\">\n",
              "    <path d=\"M120-120v-720h720v720H120Zm60-500h600v-160H180v160Zm220 220h160v-160H400v160Zm0 220h160v-160H400v160ZM180-400h160v-160H180v160Zm440 0h160v-160H620v160ZM180-180h160v-160H180v160Zm440 0h160v-160H620v160Z\"/>\n",
              "  </svg>\n",
              "    </button>\n",
              "\n",
              "  <style>\n",
              "    .colab-df-container {\n",
              "      display:flex;\n",
              "      gap: 12px;\n",
              "    }\n",
              "\n",
              "    .colab-df-convert {\n",
              "      background-color: #E8F0FE;\n",
              "      border: none;\n",
              "      border-radius: 50%;\n",
              "      cursor: pointer;\n",
              "      display: none;\n",
              "      fill: #1967D2;\n",
              "      height: 32px;\n",
              "      padding: 0 0 0 0;\n",
              "      width: 32px;\n",
              "    }\n",
              "\n",
              "    .colab-df-convert:hover {\n",
              "      background-color: #E2EBFA;\n",
              "      box-shadow: 0px 1px 2px rgba(60, 64, 67, 0.3), 0px 1px 3px 1px rgba(60, 64, 67, 0.15);\n",
              "      fill: #174EA6;\n",
              "    }\n",
              "\n",
              "    .colab-df-buttons div {\n",
              "      margin-bottom: 4px;\n",
              "    }\n",
              "\n",
              "    [theme=dark] .colab-df-convert {\n",
              "      background-color: #3B4455;\n",
              "      fill: #D2E3FC;\n",
              "    }\n",
              "\n",
              "    [theme=dark] .colab-df-convert:hover {\n",
              "      background-color: #434B5C;\n",
              "      box-shadow: 0px 1px 3px 1px rgba(0, 0, 0, 0.15);\n",
              "      filter: drop-shadow(0px 1px 2px rgba(0, 0, 0, 0.3));\n",
              "      fill: #FFFFFF;\n",
              "    }\n",
              "  </style>\n",
              "\n",
              "    <script>\n",
              "      const buttonEl =\n",
              "        document.querySelector('#df-234c6b2d-d994-4755-b625-32fb0a0107be button.colab-df-convert');\n",
              "      buttonEl.style.display =\n",
              "        google.colab.kernel.accessAllowed ? 'block' : 'none';\n",
              "\n",
              "      async function convertToInteractive(key) {\n",
              "        const element = document.querySelector('#df-234c6b2d-d994-4755-b625-32fb0a0107be');\n",
              "        const dataTable =\n",
              "          await google.colab.kernel.invokeFunction('convertToInteractive',\n",
              "                                                    [key], {});\n",
              "        if (!dataTable) return;\n",
              "\n",
              "        const docLinkHtml = 'Like what you see? Visit the ' +\n",
              "          '<a target=\"_blank\" href=https://colab.research.google.com/notebooks/data_table.ipynb>data table notebook</a>'\n",
              "          + ' to learn more about interactive tables.';\n",
              "        element.innerHTML = '';\n",
              "        dataTable['output_type'] = 'display_data';\n",
              "        await google.colab.output.renderOutput(dataTable, element);\n",
              "        const docLink = document.createElement('div');\n",
              "        docLink.innerHTML = docLinkHtml;\n",
              "        element.appendChild(docLink);\n",
              "      }\n",
              "    </script>\n",
              "  </div>\n",
              "\n",
              "\n",
              "    <div id=\"df-0e0504e8-94f2-409d-bc49-31fdf56cad3f\">\n",
              "      <button class=\"colab-df-quickchart\" onclick=\"quickchart('df-0e0504e8-94f2-409d-bc49-31fdf56cad3f')\"\n",
              "                title=\"Suggest charts\"\n",
              "                style=\"display:none;\">\n",
              "\n",
              "<svg xmlns=\"http://www.w3.org/2000/svg\" height=\"24px\"viewBox=\"0 0 24 24\"\n",
              "     width=\"24px\">\n",
              "    <g>\n",
              "        <path d=\"M19 3H5c-1.1 0-2 .9-2 2v14c0 1.1.9 2 2 2h14c1.1 0 2-.9 2-2V5c0-1.1-.9-2-2-2zM9 17H7v-7h2v7zm4 0h-2V7h2v10zm4 0h-2v-4h2v4z\"/>\n",
              "    </g>\n",
              "</svg>\n",
              "      </button>\n",
              "\n",
              "<style>\n",
              "  .colab-df-quickchart {\n",
              "      --bg-color: #E8F0FE;\n",
              "      --fill-color: #1967D2;\n",
              "      --hover-bg-color: #E2EBFA;\n",
              "      --hover-fill-color: #174EA6;\n",
              "      --disabled-fill-color: #AAA;\n",
              "      --disabled-bg-color: #DDD;\n",
              "  }\n",
              "\n",
              "  [theme=dark] .colab-df-quickchart {\n",
              "      --bg-color: #3B4455;\n",
              "      --fill-color: #D2E3FC;\n",
              "      --hover-bg-color: #434B5C;\n",
              "      --hover-fill-color: #FFFFFF;\n",
              "      --disabled-bg-color: #3B4455;\n",
              "      --disabled-fill-color: #666;\n",
              "  }\n",
              "\n",
              "  .colab-df-quickchart {\n",
              "    background-color: var(--bg-color);\n",
              "    border: none;\n",
              "    border-radius: 50%;\n",
              "    cursor: pointer;\n",
              "    display: none;\n",
              "    fill: var(--fill-color);\n",
              "    height: 32px;\n",
              "    padding: 0;\n",
              "    width: 32px;\n",
              "  }\n",
              "\n",
              "  .colab-df-quickchart:hover {\n",
              "    background-color: var(--hover-bg-color);\n",
              "    box-shadow: 0 1px 2px rgba(60, 64, 67, 0.3), 0 1px 3px 1px rgba(60, 64, 67, 0.15);\n",
              "    fill: var(--button-hover-fill-color);\n",
              "  }\n",
              "\n",
              "  .colab-df-quickchart-complete:disabled,\n",
              "  .colab-df-quickchart-complete:disabled:hover {\n",
              "    background-color: var(--disabled-bg-color);\n",
              "    fill: var(--disabled-fill-color);\n",
              "    box-shadow: none;\n",
              "  }\n",
              "\n",
              "  .colab-df-spinner {\n",
              "    border: 2px solid var(--fill-color);\n",
              "    border-color: transparent;\n",
              "    border-bottom-color: var(--fill-color);\n",
              "    animation:\n",
              "      spin 1s steps(1) infinite;\n",
              "  }\n",
              "\n",
              "  @keyframes spin {\n",
              "    0% {\n",
              "      border-color: transparent;\n",
              "      border-bottom-color: var(--fill-color);\n",
              "      border-left-color: var(--fill-color);\n",
              "    }\n",
              "    20% {\n",
              "      border-color: transparent;\n",
              "      border-left-color: var(--fill-color);\n",
              "      border-top-color: var(--fill-color);\n",
              "    }\n",
              "    30% {\n",
              "      border-color: transparent;\n",
              "      border-left-color: var(--fill-color);\n",
              "      border-top-color: var(--fill-color);\n",
              "      border-right-color: var(--fill-color);\n",
              "    }\n",
              "    40% {\n",
              "      border-color: transparent;\n",
              "      border-right-color: var(--fill-color);\n",
              "      border-top-color: var(--fill-color);\n",
              "    }\n",
              "    60% {\n",
              "      border-color: transparent;\n",
              "      border-right-color: var(--fill-color);\n",
              "    }\n",
              "    80% {\n",
              "      border-color: transparent;\n",
              "      border-right-color: var(--fill-color);\n",
              "      border-bottom-color: var(--fill-color);\n",
              "    }\n",
              "    90% {\n",
              "      border-color: transparent;\n",
              "      border-bottom-color: var(--fill-color);\n",
              "    }\n",
              "  }\n",
              "</style>\n",
              "\n",
              "      <script>\n",
              "        async function quickchart(key) {\n",
              "          const quickchartButtonEl =\n",
              "            document.querySelector('#' + key + ' button');\n",
              "          quickchartButtonEl.disabled = true;  // To prevent multiple clicks.\n",
              "          quickchartButtonEl.classList.add('colab-df-spinner');\n",
              "          try {\n",
              "            const charts = await google.colab.kernel.invokeFunction(\n",
              "                'suggestCharts', [key], {});\n",
              "          } catch (error) {\n",
              "            console.error('Error during call to suggestCharts:', error);\n",
              "          }\n",
              "          quickchartButtonEl.classList.remove('colab-df-spinner');\n",
              "          quickchartButtonEl.classList.add('colab-df-quickchart-complete');\n",
              "        }\n",
              "        (() => {\n",
              "          let quickchartButtonEl =\n",
              "            document.querySelector('#df-0e0504e8-94f2-409d-bc49-31fdf56cad3f button');\n",
              "          quickchartButtonEl.style.display =\n",
              "            google.colab.kernel.accessAllowed ? 'block' : 'none';\n",
              "        })();\n",
              "      </script>\n",
              "    </div>\n",
              "\n",
              "    </div>\n",
              "  </div>\n"
            ],
            "application/vnd.google.colaboratory.intrinsic+json": {
              "type": "dataframe",
              "variable_name": "titanic",
              "summary": "{\n  \"name\": \"titanic\",\n  \"rows\": 2201,\n  \"fields\": [\n    {\n      \"column\": \"Passenger\",\n      \"properties\": {\n        \"dtype\": \"number\",\n        \"std\": 635,\n        \"min\": 1,\n        \"max\": 2201,\n        \"num_unique_values\": 2201,\n        \"samples\": [\n          781,\n          582,\n          1751\n        ],\n        \"semantic_type\": \"\",\n        \"description\": \"\"\n      }\n    },\n    {\n      \"column\": \"Class\",\n      \"properties\": {\n        \"dtype\": \"category\",\n        \"num_unique_values\": 4,\n        \"samples\": [\n          \"1st\",\n          \"Crew\",\n          \"3rd\"\n        ],\n        \"semantic_type\": \"\",\n        \"description\": \"\"\n      }\n    },\n    {\n      \"column\": \"Sex\",\n      \"properties\": {\n        \"dtype\": \"category\",\n        \"num_unique_values\": 2,\n        \"samples\": [\n          \"Female\",\n          \"Male\"\n        ],\n        \"semantic_type\": \"\",\n        \"description\": \"\"\n      }\n    },\n    {\n      \"column\": \"Age\",\n      \"properties\": {\n        \"dtype\": \"category\",\n        \"num_unique_values\": 2,\n        \"samples\": [\n          \"Adult\",\n          \"Child\"\n        ],\n        \"semantic_type\": \"\",\n        \"description\": \"\"\n      }\n    },\n    {\n      \"column\": \"Survived\",\n      \"properties\": {\n        \"dtype\": \"category\",\n        \"num_unique_values\": 2,\n        \"samples\": [\n          \"Yes\",\n          \"No\"\n        ],\n        \"semantic_type\": \"\",\n        \"description\": \"\"\n      }\n    }\n  ]\n}"
            }
          },
          "metadata": {},
          "execution_count": 5
        }
      ]
    },
    {
      "cell_type": "code",
      "source": [
        "from sklearn.datasets import make_blobs\n",
        "import matplotlib.pyplot as plt\n",
        "from sklearn.datasets import make_blobs\n",
        "from sklearn.model_selection import train_test_split"
      ],
      "metadata": {
        "id": "E9dTcKCf6sM9"
      },
      "execution_count": 6,
      "outputs": []
    },
    {
      "cell_type": "code",
      "source": [
        "# X, y = make_blobs(n_samples=1000, n_features=2, centers=2, random_state=2023)\n",
        "# print(X)\n",
        "# print(X.shape)\n",
        "# print(y)\n",
        "# print(y.shape)\n",
        "\n",
        "X = titanic[[\"Class\", \"Sex\", \"Age\"]]\n",
        "Y = titanic[\"Survived\"]"
      ],
      "metadata": {
        "id": "9VUp74OS7H5Z"
      },
      "execution_count": 7,
      "outputs": []
    },
    {
      "cell_type": "code",
      "source": [
        "X.iloc[:, 2].unique()"
      ],
      "metadata": {
        "colab": {
          "base_uri": "https://localhost:8080/"
        },
        "id": "hw5BQ8TO9Xdm",
        "outputId": "c66f8d74-02c6-4743-a0b8-fd3938fbe530"
      },
      "execution_count": 8,
      "outputs": [
        {
          "output_type": "execute_result",
          "data": {
            "text/plain": [
              "array(['Child', 'Adult'], dtype=object)"
            ]
          },
          "metadata": {},
          "execution_count": 8
        }
      ]
    },
    {
      "cell_type": "code",
      "source": [
        "# classes = []\n",
        "# sex = []\n",
        "# age = []\n",
        "# sur = []\n",
        "\n",
        "# for i in range(len(X)):\n",
        "#   if X.iloc[i, 0] == \"1st\":\n",
        "#     classes.append(1)\n",
        "#   elif X.iloc[i, 0] == \"2nd\":\n",
        "#     classes.append(2)\n",
        "#   elif X.iloc[i, 0] == \"3rd\":\n",
        "#     classes.append(3)\n",
        "#   else:\n",
        "#     classes.append(0)\n",
        "\n",
        "#   if X.iloc[i, 1] == \"Male\":\n",
        "#     sex.append(1)\n",
        "#   elif X.iloc[i, 1] == \"Female\":\n",
        "#     sex.append(2)\n",
        "\n",
        "#   if X.iloc[i, 2] == \"Child\":\n",
        "#     age.append(1)\n",
        "#   elif X.iloc[i, 2] == \"Adult\":\n",
        "#     age.append(2)\n",
        "\n",
        "#   if Y.iloc[i] == \"Yes\":\n",
        "#     sur.append(0)\n",
        "#   elif Y.iloc[i] == \"No\":\n",
        "#     sur.append(1)\n"
      ],
      "metadata": {
        "id": "sf66VA-L9pq-"
      },
      "execution_count": 48,
      "outputs": []
    },
    {
      "cell_type": "code",
      "source": [
        "X_encoded = pd.get_dummies(titanic[[\"Class\", \"Sex\", \"Age\"]], drop_first=False)\n",
        "Y = titanic['Survived'].map({'No': 0, 'Yes': 1})"
      ],
      "metadata": {
        "id": "isAY0QG6N-kZ"
      },
      "execution_count": 9,
      "outputs": []
    },
    {
      "cell_type": "code",
      "source": [
        "Y"
      ],
      "metadata": {
        "colab": {
          "base_uri": "https://localhost:8080/",
          "height": 458
        },
        "id": "gHq5_o2dOVqB",
        "outputId": "24f33bc8-dfef-48e2-92e6-9e8464c19cf1"
      },
      "execution_count": 10,
      "outputs": [
        {
          "output_type": "execute_result",
          "data": {
            "text/plain": [
              "0       0\n",
              "1       0\n",
              "2       0\n",
              "3       0\n",
              "4       0\n",
              "       ..\n",
              "2196    1\n",
              "2197    1\n",
              "2198    1\n",
              "2199    1\n",
              "2200    1\n",
              "Name: Survived, Length: 2201, dtype: int64"
            ],
            "text/html": [
              "<div>\n",
              "<style scoped>\n",
              "    .dataframe tbody tr th:only-of-type {\n",
              "        vertical-align: middle;\n",
              "    }\n",
              "\n",
              "    .dataframe tbody tr th {\n",
              "        vertical-align: top;\n",
              "    }\n",
              "\n",
              "    .dataframe thead th {\n",
              "        text-align: right;\n",
              "    }\n",
              "</style>\n",
              "<table border=\"1\" class=\"dataframe\">\n",
              "  <thead>\n",
              "    <tr style=\"text-align: right;\">\n",
              "      <th></th>\n",
              "      <th>Survived</th>\n",
              "    </tr>\n",
              "  </thead>\n",
              "  <tbody>\n",
              "    <tr>\n",
              "      <th>0</th>\n",
              "      <td>0</td>\n",
              "    </tr>\n",
              "    <tr>\n",
              "      <th>1</th>\n",
              "      <td>0</td>\n",
              "    </tr>\n",
              "    <tr>\n",
              "      <th>2</th>\n",
              "      <td>0</td>\n",
              "    </tr>\n",
              "    <tr>\n",
              "      <th>3</th>\n",
              "      <td>0</td>\n",
              "    </tr>\n",
              "    <tr>\n",
              "      <th>4</th>\n",
              "      <td>0</td>\n",
              "    </tr>\n",
              "    <tr>\n",
              "      <th>...</th>\n",
              "      <td>...</td>\n",
              "    </tr>\n",
              "    <tr>\n",
              "      <th>2196</th>\n",
              "      <td>1</td>\n",
              "    </tr>\n",
              "    <tr>\n",
              "      <th>2197</th>\n",
              "      <td>1</td>\n",
              "    </tr>\n",
              "    <tr>\n",
              "      <th>2198</th>\n",
              "      <td>1</td>\n",
              "    </tr>\n",
              "    <tr>\n",
              "      <th>2199</th>\n",
              "      <td>1</td>\n",
              "    </tr>\n",
              "    <tr>\n",
              "      <th>2200</th>\n",
              "      <td>1</td>\n",
              "    </tr>\n",
              "  </tbody>\n",
              "</table>\n",
              "<p>2201 rows × 1 columns</p>\n",
              "</div><br><label><b>dtype:</b> int64</label>"
            ]
          },
          "metadata": {},
          "execution_count": 10
        }
      ]
    },
    {
      "cell_type": "code",
      "source": [
        "# Y = pd.Series(sur, name=\"Survived\")"
      ],
      "metadata": {
        "id": "I-9u9jm2-1H4"
      },
      "execution_count": 49,
      "outputs": []
    },
    {
      "cell_type": "code",
      "source": [
        "# X[\"Class\"] = classes\n",
        "# X[\"Sex\"] = sex\n",
        "# X[\"Age\"] = age\n",
        "# Y[\"Survived\"] = sur"
      ],
      "metadata": {
        "colab": {
          "base_uri": "https://localhost:8080/"
        },
        "id": "FSvSHGAZ-ITG",
        "outputId": "b299fc90-1e1d-4703-b8fd-3f717361905b"
      },
      "execution_count": 50,
      "outputs": [
        {
          "output_type": "stream",
          "name": "stderr",
          "text": [
            "/tmp/ipython-input-1287275439.py:1: SettingWithCopyWarning: \n",
            "A value is trying to be set on a copy of a slice from a DataFrame.\n",
            "Try using .loc[row_indexer,col_indexer] = value instead\n",
            "\n",
            "See the caveats in the documentation: https://pandas.pydata.org/pandas-docs/stable/user_guide/indexing.html#returning-a-view-versus-a-copy\n",
            "  X[\"Class\"] = classes\n",
            "/tmp/ipython-input-1287275439.py:2: SettingWithCopyWarning: \n",
            "A value is trying to be set on a copy of a slice from a DataFrame.\n",
            "Try using .loc[row_indexer,col_indexer] = value instead\n",
            "\n",
            "See the caveats in the documentation: https://pandas.pydata.org/pandas-docs/stable/user_guide/indexing.html#returning-a-view-versus-a-copy\n",
            "  X[\"Sex\"] = sex\n",
            "/tmp/ipython-input-1287275439.py:3: SettingWithCopyWarning: \n",
            "A value is trying to be set on a copy of a slice from a DataFrame.\n",
            "Try using .loc[row_indexer,col_indexer] = value instead\n",
            "\n",
            "See the caveats in the documentation: https://pandas.pydata.org/pandas-docs/stable/user_guide/indexing.html#returning-a-view-versus-a-copy\n",
            "  X[\"Age\"] = age\n"
          ]
        }
      ]
    },
    {
      "cell_type": "code",
      "source": [
        "# Train and test partitions\n",
        "X_train, X_test , Y_train, Y_test = train_test_split(X_encoded, Y, test_size=0.30, random_state=2023, stratify=Y)"
      ],
      "metadata": {
        "id": "nIiAGC_V7GMB"
      },
      "execution_count": 11,
      "outputs": []
    },
    {
      "cell_type": "code",
      "source": [
        "class TwoNodeNN:\n",
        "    def __init__(self, learning_rate, n_features):\n",
        "        # Hidden layer: 2 neurons\n",
        "        self.W1 = np.random.randn(2, n_features) * 0.01   # (2, d)\n",
        "        self.b1 = np.zeros(2)                              # (2,)\n",
        "        # Output layer: 1 neuron (binary classification)\n",
        "        self.W2 = np.random.randn(1, 2) * 0.01             # (1, 2)\n",
        "        self.b2 = 0.0                                      # scalar\n",
        "        self.learning_rate = learning_rate\n",
        "\n",
        "    def _sigmoid(self, x):\n",
        "        x = np.clip(x, -50, 50)\n",
        "        return 1.0 / (1.0 + np.exp(-x))\n",
        "\n",
        "    def _sigmoid_deriv_from_sigmoid(self, s):\n",
        "        # given s = sigmoid(z)\n",
        "        return s * (1.0 - s)\n",
        "\n",
        "    # -------- forward pass --------\n",
        "    def _forward_single(self, x):\n",
        "        # x: (d,)\n",
        "        z1 = self.W1 @ x + self.b1            # (2,)\n",
        "        a1 = self._sigmoid(z1)                # (2,)\n",
        "        z2 = self.W2 @ a1 + self.b2           # (1,)\n",
        "        yhat = self._sigmoid(z2)[0]           # scalar\n",
        "        return z1, a1, z2.item(), yhat\n",
        "\n",
        "    # Vectorized predict_proba for grid/batches\n",
        "    def predict_proba(self, X):\n",
        "        \"\"\"\n",
        "        X: (n, d) or (d,) or pandas DataFrame\n",
        "        returns probs shape (n,) or scalar\n",
        "        \"\"\"\n",
        "        if hasattr(X, \"values\"):              # DataFrame/Series\n",
        "            X = X.values\n",
        "        X = np.asarray(X, dtype=float)\n",
        "\n",
        "        if X.ndim == 1:\n",
        "            _, a1, _, yhat = self._forward_single(X)\n",
        "            return yhat\n",
        "        else:\n",
        "            # Vectorized forward\n",
        "            # Z1 = X @ W1.T + b1 -> (n,2)\n",
        "            Z1 = X @ self.W1.T + self.b1\n",
        "            A1 = self._sigmoid(Z1)\n",
        "            Z2 = A1 @ self.W2.T + self.b2     # (n,1)\n",
        "            Yhat = self._sigmoid(Z2).reshape(-1)\n",
        "            return Yhat\n",
        "\n",
        "    def predict(self, X, threshold=0.5):\n",
        "        return (self.predict_proba(X) >= threshold).astype(int)\n",
        "\n",
        "    # -------- backprop (MSE) for one sample --------\n",
        "    def _compute_gradients(self, x, y):\n",
        "        # Forward\n",
        "        z1, a1, z2, yhat = self._forward_single(x)\n",
        "\n",
        "        # Loss L = (yhat - y)^2\n",
        "        dL_dyhat = 2.0 * (yhat - y)                            # scalar\n",
        "        dyhat_dz2 = self._sigmoid_deriv_from_sigmoid(1/(1+np.exp(-z2)))\n",
        "        # More stable: use yhat directly:\n",
        "        dyhat_dz2 = yhat * (1.0 - yhat)\n",
        "        delta2 = dL_dyhat * dyhat_dz2                          # scalar\n",
        "\n",
        "        # Output layer grads\n",
        "        dL_dW2 = delta2 * a1.reshape(1, -1)                    # (1,2)\n",
        "        dL_db2 = delta2                                        # scalar\n",
        "\n",
        "        # Backprop to hidden\n",
        "        # delta1 = (W2^T * delta2) ⊙ sigmoid'(z1)\n",
        "        sigp_z1 = self._sigmoid_deriv_from_sigmoid(a1)         # (2,)\n",
        "        delta1 = (self.W2.T.reshape(2,) * delta2) * sigp_z1    # (2,)\n",
        "\n",
        "        # Hidden layer grads\n",
        "        dL_dW1 = delta1.reshape(-1, 1) @ x.reshape(1, -1)      # (2,d)\n",
        "        dL_db1 = delta1                                         # (2,)\n",
        "\n",
        "        return dL_dW1, dL_db1, dL_dW2, dL_db2\n",
        "\n",
        "    def _update(self, dW1, db1, dW2, db2):\n",
        "        lr = self.learning_rate\n",
        "        self.W1 -= lr * dW1\n",
        "        self.b1 -= lr * db1\n",
        "        self.W2 -= lr * dW2\n",
        "        self.b2 -= lr * db2\n",
        "\n",
        "    def train(self, X, y, iterations=20000, report_every=200):\n",
        "        errs = []\n",
        "        n = len(y)\n",
        "        for it in range(iterations):\n",
        "            i = np.random.randint(n)\n",
        "            dW1, db1, dW2, db2 = self._compute_gradients(X.iloc[i].values, y.iloc[i])\n",
        "            self._update(dW1, db1, dW2, db2)\n",
        "            if it % report_every == 0:\n",
        "                yhat_all = self.predict_proba(X)\n",
        "                errs.append(np.mean((yhat_all - y) ** 2))\n",
        "        return errs"
      ],
      "metadata": {
        "id": "xCaDLgBC6_Ld"
      },
      "execution_count": 23,
      "outputs": []
    },
    {
      "cell_type": "code",
      "source": [
        "# Plot the results\n",
        "\n",
        "learning_rate = 0.1\n",
        "neural_network = TwoNodeNN(learning_rate, n_features=X_train.shape[1])\n",
        "training_error = neural_network.train(X_train, Y_train, 20000)\n",
        "# test_error = neural_network.train(X_test, Y_test, 1000)"
      ],
      "metadata": {
        "id": "H0upHqDW654N"
      },
      "execution_count": 28,
      "outputs": []
    },
    {
      "cell_type": "code",
      "source": [
        "# plt.plot(training_error)\n",
        "# plt.plot(test_error)\n",
        "# plt.xlabel(\"Iterations\")\n",
        "# plt.ylabel(\"Error for all training instances\")\n",
        "# plt.savefig(\"cumulative_error.png\")\n",
        "# plt.show()"
      ],
      "metadata": {
        "id": "BExG95td8LT1"
      },
      "execution_count": 14,
      "outputs": []
    },
    {
      "cell_type": "code",
      "source": [
        "from sklearn.metrics import accuracy_score, confusion_matrix"
      ],
      "metadata": {
        "id": "ZkjUnwYQ_gML"
      },
      "execution_count": 15,
      "outputs": []
    },
    {
      "cell_type": "code",
      "source": [
        "acc_train = accuracy_score(Y_train, neural_network.predict(X_train))\n",
        "acc_test = accuracy_score(Y_test, neural_network.predict(X_test))\n",
        "print(\"Training accuracy:\", acc_train)\n",
        "print(\"Test accuracy:\", acc_test)"
      ],
      "metadata": {
        "colab": {
          "base_uri": "https://localhost:8080/"
        },
        "id": "t9_nsLhZ_SWB",
        "outputId": "cabdc274-bc1f-4568-b542-bb0a56f65d3b"
      },
      "execution_count": 29,
      "outputs": [
        {
          "output_type": "stream",
          "name": "stdout",
          "text": [
            "Training accuracy: 0.785064935064935\n",
            "Test accuracy: 0.7821482602118003\n"
          ]
        }
      ]
    },
    {
      "cell_type": "code",
      "source": [
        "cm = confusion_matrix(Y_test, neural_network.predict(X_test))\n",
        "print(cm)"
      ],
      "metadata": {
        "colab": {
          "base_uri": "https://localhost:8080/"
        },
        "id": "3jydn5Y6_oIX",
        "outputId": "7d04b9f6-b8dd-41b1-b61a-927a8a7656ab"
      },
      "execution_count": 30,
      "outputs": [
        {
          "output_type": "stream",
          "name": "stdout",
          "text": [
            "[[433  14]\n",
            " [130  84]]\n"
          ]
        }
      ]
    },
    {
      "cell_type": "code",
      "source": [
        "# # Plot the decision boundary. Create a mesh of x and y points. Then\n",
        "# # predict the label. Then plot those with color.\n",
        "# X1 = np.arange(-7, 6, 0.1)\n",
        "# X2 = np.arange(-11, 11, 0.1)\n",
        "\n",
        "# # create a rectangular grid out of two given one-dimensional arrays\n",
        "# X1, X2 = np.meshgrid(X1, X2)\n",
        "\n",
        "# X_decision = pd.DataFrame({\"A\": np.reshape(X1,28600), \"B\": np.reshape(X2,28600)})\n",
        "\n",
        "# Z = neural_network.predict(X_decision)\n",
        "\n",
        "# plt.scatter(x=X_decision[\"A\"],y=X_decision[\"B\"], marker = \".\", c=Z, cmap=\"cool\")\n",
        "# plt.scatter(x=X[:,0], y=X[:,1], marker = \".\", c=y, cmap=\"RdBu\")\n",
        "# plt.show()"
      ],
      "metadata": {
        "id": "4o1-LfTp64Od"
      },
      "execution_count": null,
      "outputs": []
    },
    {
      "cell_type": "code",
      "source": [
        "class FourNodeNN:\n",
        "    def __init__(self, learning_rate, n_features):\n",
        "        # Hidden layer 1: 2 neurons\n",
        "        self.W1 = np.random.randn(2, n_features) * 0.01   # (2, d)\n",
        "        self.b1 = np.zeros(2)                              # (2,)\n",
        "\n",
        "        # Hidden layer 2: 2 neurons\n",
        "        self.W2 = np.random.randn(2, 2) * 0.01             # (2, 2)\n",
        "        self.b2 = np.zeros(2)                              # (2,)\n",
        "\n",
        "        # Output layer: 1 neuron\n",
        "        self.W3 = np.random.randn(1, 2) * 0.01             # (1, 2)\n",
        "        self.b3 = 0.0                                      # scalar\n",
        "\n",
        "        self.learning_rate = learning_rate\n",
        "\n",
        "    def _sigmoid(self, x):\n",
        "        x = np.clip(x, -50, 50)\n",
        "        return 1.0 / (1.0 + np.exp(-x))\n",
        "\n",
        "    def _sigmoid_deriv_from_sigmoid(self, s):\n",
        "        return s * (1.0 - s)\n",
        "\n",
        "    # -------- forward pass --------\n",
        "    def _forward_single(self, x):\n",
        "        # x: (d,)\n",
        "        z1 = self.W1 @ x + self.b1         # (2,)\n",
        "        a1 = self._sigmoid(z1)             # (2,)\n",
        "\n",
        "        z2 = self.W2 @ a1 + self.b2        # (2,)\n",
        "        a2 = self._sigmoid(z2)             # (2,)\n",
        "\n",
        "        z3 = self.W3 @ a2 + self.b3        # (1,)\n",
        "        yhat = self._sigmoid(z3)[0]        # scalar\n",
        "\n",
        "        return z1, a1, z2, a2, z3.item(), yhat\n",
        "\n",
        "    def predict_proba(self, X):\n",
        "        if hasattr(X, \"values\"):\n",
        "            X = X.values\n",
        "        X = np.asarray(X, dtype=float)\n",
        "\n",
        "        if X.ndim == 1:  # single sample\n",
        "            _, _, _, _, _, yhat = self._forward_single(X)\n",
        "            return yhat\n",
        "        else:            # batch\n",
        "            Z1 = X @ self.W1.T + self.b1        # (n,2)\n",
        "            A1 = self._sigmoid(Z1)\n",
        "            Z2 = A1 @ self.W2.T + self.b2       # (n,2)\n",
        "            A2 = self._sigmoid(Z2)\n",
        "            Z3 = A2 @ self.W3.T + self.b3       # (n,1)\n",
        "            Yhat = self._sigmoid(Z3).reshape(-1)\n",
        "            return Yhat\n",
        "\n",
        "    def predict(self, X, threshold=0.5):\n",
        "        return (self.predict_proba(X) >= threshold).astype(int)\n",
        "\n",
        "    # -------- backprop (MSE) --------\n",
        "    def _compute_gradients(self, x, y):\n",
        "        z1, a1, z2, a2, z3, yhat = self._forward_single(x)\n",
        "\n",
        "        # Loss L = (yhat - y)^2\n",
        "        dL_dyhat = 2.0 * (yhat - y)\n",
        "        dyhat_dz3 = yhat * (1.0 - yhat)\n",
        "        delta3 = dL_dyhat * dyhat_dz3\n",
        "\n",
        "        # Gradients for W3, b3\n",
        "        dL_dW3 = delta3 * a2.reshape(1, -1)   # (1,2)\n",
        "        dL_db3 = delta3\n",
        "\n",
        "        # Backprop to hidden2\n",
        "        delta2 = (self.W3.T.reshape(2,) * delta3) * self._sigmoid_deriv_from_sigmoid(a2)\n",
        "        dL_dW2 = delta2.reshape(-1,1) @ a1.reshape(1,-1)   # (2,2)\n",
        "        dL_db2 = delta2\n",
        "\n",
        "        # Backprop to hidden1\n",
        "        delta1 = (self.W2.T @ delta2) * self._sigmoid_deriv_from_sigmoid(a1)   # (2,)\n",
        "        dL_dW1 = delta1.reshape(-1,1) @ x.reshape(1,-1)    # (2,d)\n",
        "        dL_db1 = delta1\n",
        "\n",
        "        return dL_dW1, dL_db1, dL_dW2, dL_db2, dL_dW3, dL_db3\n",
        "\n",
        "    def _update(self, dW1, db1, dW2, db2, dW3, db3):\n",
        "        lr = self.learning_rate\n",
        "        self.W1 -= lr * dW1\n",
        "        self.b1 -= lr * db1\n",
        "        self.W2 -= lr * dW2\n",
        "        self.b2 -= lr * db2\n",
        "        self.W3 -= lr * dW3\n",
        "        self.b3 -= lr * db3\n",
        "\n",
        "    def train(self, X, y, iterations=20000, report_every=200):\n",
        "        errs = []\n",
        "        n = len(y)\n",
        "\n",
        "        for it in range(iterations):\n",
        "            i = np.random.randint(n)\n",
        "            dW1, db1, dW2, db2, dW3, db3 = self._compute_gradients(X.iloc[i].values, y.iloc[i])\n",
        "            self._update(dW1, db1, dW2, db2, dW3, db3)\n",
        "\n",
        "            if it % report_every == 0:\n",
        "                yhat_all = self.predict_proba(X)\n",
        "                errs.append(np.mean((yhat_all - y) ** 2))\n",
        "        return errs"
      ],
      "metadata": {
        "id": "lUphfF5CBevc"
      },
      "execution_count": 31,
      "outputs": []
    },
    {
      "cell_type": "code",
      "source": [
        "# Plot the results\n",
        "\n",
        "learning_rate = 0.1\n",
        "neural_network2 = FourNodeNN(learning_rate, n_features=X_train.shape[1])\n",
        "training_error2 = neural_network2.train(X_train, Y_train, 20000)\n",
        "# test_error2 = neural_network2.train(X_test, Y_test, 1000)"
      ],
      "metadata": {
        "id": "ywzQm1IDCoqg"
      },
      "execution_count": 36,
      "outputs": []
    },
    {
      "cell_type": "code",
      "source": [
        "# plt.plot(training_error2)\n",
        "# plt.plot(test_error2)\n",
        "# plt.xlabel(\"Iterations\")\n",
        "# plt.ylabel(\"Error for all training instances\")\n",
        "# plt.savefig(\"cumulative_error.png\")\n",
        "# plt.show()"
      ],
      "metadata": {
        "id": "WN2tYhQPCwOW"
      },
      "execution_count": 20,
      "outputs": []
    },
    {
      "cell_type": "code",
      "source": [
        "acc_train2 = accuracy_score(Y_train, neural_network2.predict(X_train))\n",
        "acc_test2 = accuracy_score(Y_test, neural_network2.predict(X_test))\n",
        "print(\"Training accuracy:\", acc_train2)\n",
        "print(\"Test accuracy:\", acc_test2)"
      ],
      "metadata": {
        "colab": {
          "base_uri": "https://localhost:8080/"
        },
        "id": "QPel1WM5CrOo",
        "outputId": "994b48d4-7498-4750-8da3-445b946110cb"
      },
      "execution_count": 37,
      "outputs": [
        {
          "output_type": "stream",
          "name": "stdout",
          "text": [
            "Training accuracy: 0.6772727272727272\n",
            "Test accuracy: 0.6762481089258698\n"
          ]
        }
      ]
    },
    {
      "cell_type": "code",
      "source": [
        "cm = confusion_matrix(Y_test, neural_network2.predict(X_test))\n",
        "print(cm)"
      ],
      "metadata": {
        "colab": {
          "base_uri": "https://localhost:8080/"
        },
        "id": "MwQoTWiRDBPh",
        "outputId": "f321197f-632e-4639-c7e4-70c93ee1fa17"
      },
      "execution_count": 38,
      "outputs": [
        {
          "output_type": "stream",
          "name": "stdout",
          "text": [
            "[[447   0]\n",
            " [214   0]]\n"
          ]
        }
      ]
    },
    {
      "cell_type": "code",
      "source": [],
      "metadata": {
        "id": "ynEKD6W1QG22"
      },
      "execution_count": null,
      "outputs": []
    }
  ]
}